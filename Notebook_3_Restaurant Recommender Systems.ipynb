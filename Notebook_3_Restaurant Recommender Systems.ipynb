{
 "cells": [
  {
   "cell_type": "markdown",
   "id": "ed303fd9",
   "metadata": {},
   "source": [
    "The project's primary objective is to create a Restaurant Recommender Application designed to assist users in locating dining establishments that align with their tastes. Through the implementation of machine learning techniques, I have gathered genuine restaurant reviews and established a sophisticated recommender system.\n",
    "\n",
    "In my project, I conducted an in-depth analysis of restaurant reviews from Vancouver. Throughout the project, I gathered data from web sources, constructed a comprehensive data frame, established a robust recommender system, and developed a user-friendly application to utilize the recommendation system seamlessly."
   ]
  },
  {
   "cell_type": "markdown",
   "id": "18f1be24",
   "metadata": {},
   "source": [
    "__Please note: this is notebook 3 of 3.__\n",
    "\n",
    "In this notebook I created content base recommender system."
   ]
  },
  {
   "cell_type": "code",
   "execution_count": 1,
   "id": "d325ee7b",
   "metadata": {},
   "outputs": [],
   "source": [
    "import pandas as pd\n",
    "import numpy as np\n",
    "import matplotlib.pyplot as plt\n",
    "import seaborn as sns"
   ]
  },
  {
   "cell_type": "code",
   "execution_count": 2,
   "id": "9827ff64",
   "metadata": {},
   "outputs": [
    {
     "data": {
      "text/html": [
       "<details>\n",
       "<summary>Click to view session information</summary>\n",
       "<pre>\n",
       "-----\n",
       "matplotlib          3.7.1\n",
       "numpy               1.24.3\n",
       "pandas              1.5.3\n",
       "seaborn             0.12.2\n",
       "session_info        1.0.0\n",
       "-----\n",
       "</pre>\n",
       "<details>\n",
       "<summary>Click to view modules imported as dependencies</summary>\n",
       "<pre>\n",
       "CoreFoundation              NA\n",
       "Foundation                  NA\n",
       "PIL                         9.4.0\n",
       "PyObjCTools                 NA\n",
       "anyio                       NA\n",
       "appnope                     0.1.2\n",
       "arrow                       1.2.3\n",
       "asttokens                   NA\n",
       "attr                        22.1.0\n",
       "babel                       2.11.0\n",
       "backcall                    0.2.0\n",
       "beta_ufunc                  NA\n",
       "binom_ufunc                 NA\n",
       "bottleneck                  1.3.5\n",
       "brotli                      NA\n",
       "certifi                     2023.05.07\n",
       "cffi                        1.15.1\n",
       "chardet                     4.0.0\n",
       "charset_normalizer          2.0.4\n",
       "cloudpickle                 2.2.1\n",
       "colorama                    0.4.6\n",
       "comm                        0.1.2\n",
       "cycler                      0.10.0\n",
       "cython_runtime              NA\n",
       "dateutil                    2.8.2\n",
       "debugpy                     1.5.1\n",
       "decorator                   5.1.1\n",
       "defusedxml                  0.7.1\n",
       "executing                   0.8.3\n",
       "fastjsonschema              NA\n",
       "fqdn                        NA\n",
       "hypergeom_ufunc             NA\n",
       "idna                        3.4\n",
       "importlib_metadata          NA\n",
       "importlib_resources         NA\n",
       "invgauss_ufunc              NA\n",
       "ipykernel                   6.19.2\n",
       "ipython_genutils            0.2.0\n",
       "ipywidgets                  8.0.4\n",
       "isoduration                 NA\n",
       "jedi                        0.18.1\n",
       "jinja2                      3.1.2\n",
       "json5                       NA\n",
       "jsonpointer                 2.4\n",
       "jsonschema                  4.17.3\n",
       "jupyter_events              0.6.3\n",
       "jupyter_server              2.5.0\n",
       "jupyterlab_server           2.22.0\n",
       "kiwisolver                  1.4.4\n",
       "markupsafe                  2.1.1\n",
       "mpl_toolkits                NA\n",
       "nbformat                    5.7.0\n",
       "nbinom_ufunc                NA\n",
       "ncf_ufunc                   NA\n",
       "nct_ufunc                   NA\n",
       "ncx2_ufunc                  NA\n",
       "numexpr                     2.8.4\n",
       "objc                        9.0\n",
       "packaging                   23.0\n",
       "parso                       0.8.3\n",
       "pexpect                     4.8.0\n",
       "pickleshare                 0.7.5\n",
       "pkg_resources               NA\n",
       "platformdirs                2.5.2\n",
       "prometheus_client           NA\n",
       "prompt_toolkit              3.0.36\n",
       "psutil                      5.9.0\n",
       "ptyprocess                  0.7.0\n",
       "pure_eval                   0.2.2\n",
       "pvectorc                    NA\n",
       "pyarrow                     13.0.0\n",
       "pydev_ipython               NA\n",
       "pydevconsole                NA\n",
       "pydevd                      2.6.0\n",
       "pydevd_concurrency_analyser NA\n",
       "pydevd_file_utils           NA\n",
       "pydevd_plugins              NA\n",
       "pydevd_tracing              NA\n",
       "pygments                    2.15.1\n",
       "pyparsing                   3.0.9\n",
       "pyrsistent                  NA\n",
       "pythonjsonlogger            NA\n",
       "pytz                        2022.7\n",
       "requests                    2.29.0\n",
       "rfc3339_validator           0.1.4\n",
       "rfc3986_validator           0.1.1\n",
       "scipy                       1.10.1\n",
       "send2trash                  NA\n",
       "setuptools                  67.8.0\n",
       "six                         1.16.0\n",
       "skewnorm_ufunc              NA\n",
       "sniffio                     1.2.0\n",
       "socks                       1.7.1\n",
       "sphinxcontrib               NA\n",
       "stack_data                  0.2.0\n",
       "statsmodels                 0.13.5\n",
       "tornado                     6.2\n",
       "traitlets                   5.7.1\n",
       "typing_extensions           NA\n",
       "uri_template                NA\n",
       "urllib3                     1.26.16\n",
       "wcwidth                     0.2.5\n",
       "webcolors                   1.13\n",
       "websocket                   0.58.0\n",
       "yaml                        6.0\n",
       "zipp                        NA\n",
       "zmq                         25.1.0\n",
       "zope                        NA\n",
       "</pre>\n",
       "</details> <!-- seems like this ends pre, so might as well be explicit -->\n",
       "<pre>\n",
       "-----\n",
       "IPython             8.12.0\n",
       "jupyter_client      8.1.0\n",
       "jupyter_core        5.3.0\n",
       "jupyterlab          3.6.3\n",
       "notebook            6.5.4\n",
       "-----\n",
       "Python 3.8.16 (default, Mar  1 2023, 21:19:10) [Clang 14.0.6 ]\n",
       "macOS-10.16-x86_64-i386-64bit\n",
       "-----\n",
       "Session information updated at 2023-11-04 13:21\n",
       "</pre>\n",
       "</details>"
      ],
      "text/plain": [
       "<IPython.core.display.HTML object>"
      ]
     },
     "execution_count": 2,
     "metadata": {},
     "output_type": "execute_result"
    }
   ],
   "source": [
    "import session_info\n",
    "session_info.show()"
   ]
  },
  {
   "cell_type": "markdown",
   "id": "97f91526",
   "metadata": {},
   "source": [
    "In the realm of recommender systems, various approaches exist: User Independent System, Content-Based Recommender System and User-Based Recommender System.\n",
    "\n",
    "User Independent System doesn't rely on any user-specific data. This system predominantly suggests the most popular restaurants to users without considering individual preferences.\n",
    "\n",
    "Creating a User-Based Recommender System isn't feasible in my context, given the nature of TripAdvisor's user behavior. Users tend to provide reviews for a relatively small number of restaurants. On average, each user contributes only 1.7 reviews. This limited data makes it challenging to construct an effective user-based recommender system.\n",
    "\n",
    "So in my project, I will concentrate on developing a Content-Based Recommender System."
   ]
  },
  {
   "cell_type": "markdown",
   "id": "f78911a5",
   "metadata": {},
   "source": [
    "### Content Based Recommendations"
   ]
  },
  {
   "cell_type": "markdown",
   "id": "d559a2bf",
   "metadata": {},
   "source": [
    "These recommendation engines are built around the idea if a user likes some item then they will like similar items based on the item content/description/review."
   ]
  },
  {
   "cell_type": "markdown",
   "id": "0959f689",
   "metadata": {},
   "source": [
    "First, we need to put the content into a format a model can understand. Right now we only have restaurant reviews and we can't really feed this straight into some model. I will use the Term Frequency Inverse Document Frequency measure (TF-IDF). The TF-IDF is made of two measures, term frequency (TF) and inverse document frequency (IDF).\n",
    "\n",
    "For a term (a word or phrase),  𝑡 , and a document , 𝑑 , the term frequency  TF(𝑡,𝑑) , measures how common the term is in the document.\n",
    "The inverse document frequency of a term  𝑡 ,  IDF(𝑡) , is the inverse of the number of documents a term  𝑡  appears in.\n",
    "\n",
    "The intuition is that when a term appears in many documents, it's not very relevant. However, if it only appears in a few documents, it's very relevant to identifying those documents."
   ]
  },
  {
   "cell_type": "markdown",
   "id": "5775742a",
   "metadata": {},
   "source": [
    "______"
   ]
  },
  {
   "cell_type": "markdown",
   "id": "045e36fd",
   "metadata": {},
   "source": [
    "Let's download final dataframe from previous notebook."
   ]
  },
  {
   "cell_type": "code",
   "execution_count": 3,
   "id": "9ba84810",
   "metadata": {},
   "outputs": [
    {
     "data": {
      "text/html": [
       "<div>\n",
       "<style scoped>\n",
       "    .dataframe tbody tr th:only-of-type {\n",
       "        vertical-align: middle;\n",
       "    }\n",
       "\n",
       "    .dataframe tbody tr th {\n",
       "        vertical-align: top;\n",
       "    }\n",
       "\n",
       "    .dataframe thead th {\n",
       "        text-align: right;\n",
       "    }\n",
       "</style>\n",
       "<table border=\"1\" class=\"dataframe\">\n",
       "  <thead>\n",
       "    <tr style=\"text-align: right;\">\n",
       "      <th></th>\n",
       "      <th>restaurant</th>\n",
       "      <th>review</th>\n",
       "      <th>rating</th>\n",
       "      <th>Cuisine</th>\n",
       "    </tr>\n",
       "  </thead>\n",
       "  <tbody>\n",
       "    <tr>\n",
       "      <th>0</th>\n",
       "      <td>Hydra Estiatorio Mediterranean</td>\n",
       "      <td>Wonderful fresh exotic Greek food that is deli...</td>\n",
       "      <td>5.0</td>\n",
       "      <td>NaN</td>\n",
       "    </tr>\n",
       "    <tr>\n",
       "      <th>1</th>\n",
       "      <td>Hydra Estiatorio Mediterranean</td>\n",
       "      <td>Food was delicious, packed full of flavors. Th...</td>\n",
       "      <td>5.0</td>\n",
       "      <td>NaN</td>\n",
       "    </tr>\n",
       "    <tr>\n",
       "      <th>2</th>\n",
       "      <td>Hydra Estiatorio Mediterranean</td>\n",
       "      <td>Hello, We would like to say thank you for the ...</td>\n",
       "      <td>5.0</td>\n",
       "      <td>NaN</td>\n",
       "    </tr>\n",
       "    <tr>\n",
       "      <th>3</th>\n",
       "      <td>Hydra Estiatorio Mediterranean</td>\n",
       "      <td>Happy hour was amazing. Buck a shuck oysters a...</td>\n",
       "      <td>5.0</td>\n",
       "      <td>NaN</td>\n",
       "    </tr>\n",
       "    <tr>\n",
       "      <th>4</th>\n",
       "      <td>Hydra Estiatorio Mediterranean</td>\n",
       "      <td>Roman was the best waiter! he checked up on us...</td>\n",
       "      <td>5.0</td>\n",
       "      <td>NaN</td>\n",
       "    </tr>\n",
       "  </tbody>\n",
       "</table>\n",
       "</div>"
      ],
      "text/plain": [
       "                       restaurant  \\\n",
       "0  Hydra Estiatorio Mediterranean   \n",
       "1  Hydra Estiatorio Mediterranean   \n",
       "2  Hydra Estiatorio Mediterranean   \n",
       "3  Hydra Estiatorio Mediterranean   \n",
       "4  Hydra Estiatorio Mediterranean   \n",
       "\n",
       "                                              review  rating Cuisine  \n",
       "0  Wonderful fresh exotic Greek food that is deli...     5.0     NaN  \n",
       "1  Food was delicious, packed full of flavors. Th...     5.0     NaN  \n",
       "2  Hello, We would like to say thank you for the ...     5.0     NaN  \n",
       "3  Happy hour was amazing. Buck a shuck oysters a...     5.0     NaN  \n",
       "4  Roman was the best waiter! he checked up on us...     5.0     NaN  "
      ]
     },
     "execution_count": 3,
     "metadata": {},
     "output_type": "execute_result"
    }
   ],
   "source": [
    "# Lets download the data\n",
    "df = pd.read_csv('/Users/evgenijkucukov/Desktop/Brainstation/Portfolio/Restaurant_reviews_project/df_final_table')\n",
    "df.head(5)"
   ]
  },
  {
   "cell_type": "markdown",
   "id": "acb51beb",
   "metadata": {},
   "source": [
    "We operate a restaurant chain that is distinguished by its various locations, such as Cactus Club and JOEY. Let's simplify their names by removing location-specific identifiers."
   ]
  },
  {
   "cell_type": "code",
   "execution_count": 4,
   "id": "83a05858",
   "metadata": {},
   "outputs": [],
   "source": [
    "# check which names with \"Cactus Club Cafe\" do we have\n",
    "# Create a boolean mask to filter rows\n",
    "mask = df['restaurant'].str.contains('Cactus Club')\n",
    "\n",
    "# Use the mask to select the rows and create a new DataFrame\n",
    "cactus_club_df = df[mask]\n"
   ]
  },
  {
   "cell_type": "code",
   "execution_count": 5,
   "id": "de44e0e5",
   "metadata": {},
   "outputs": [
    {
     "data": {
      "text/plain": [
       "array(['Cactus Club Cafe Coal Harbour', 'Cactus Club Cafe Robson',\n",
       "       'Cactus Club Cafe Bentall 5', 'Cactus Club Cafe Broadway + Ash',\n",
       "       'Cactus Club Cafe English Bay', 'Cactus Club Cafe Richmond',\n",
       "       'Cactus Club Cafe North Vancouver', 'Cactus Club Cafe Yaletown',\n",
       "       'Cactus Club Cafe North Burnaby', 'Cactus Club Cafe Park Royal',\n",
       "       'Cactus Club Cafe Byrne Road', 'Cactus Club Cafe',\n",
       "       'Cactus Club Cafe Station Square'], dtype=object)"
      ]
     },
     "execution_count": 5,
     "metadata": {},
     "output_type": "execute_result"
    }
   ],
   "source": [
    "cactus_club_df['restaurant'].unique()"
   ]
  },
  {
   "cell_type": "code",
   "execution_count": 6,
   "id": "374e488d",
   "metadata": {},
   "outputs": [
    {
     "data": {
      "text/plain": [
       "array(['JOEY Burrard', 'JOEY Bentall One', 'JOEY Shipyards',\n",
       "       'JOEY Burnaby'], dtype=object)"
      ]
     },
     "execution_count": 6,
     "metadata": {},
     "output_type": "execute_result"
    }
   ],
   "source": [
    "# check which names with \"JOEY\" do we have\n",
    "# Create a boolean mask to filter rows\n",
    "mask_j = df['restaurant'].str.contains('JOEY')\n",
    "\n",
    "# Use the mask to select the rows and create a new DataFrame\n",
    "joey_df = df[mask_j]\n",
    "\n",
    "joey_df['restaurant'].unique()"
   ]
  },
  {
   "cell_type": "code",
   "execution_count": 7,
   "id": "148bcf31",
   "metadata": {},
   "outputs": [],
   "source": [
    "# check which names with \"Tap & Barrel\" do we have\n",
    "# Create a boolean mask to filter rows\n",
    "mask_tb = df['restaurant'].str.contains('Tap & Barrel')\n",
    "\n",
    "# Use the mask to select the rows and create a new DataFrame\n",
    "tb_df = df[mask_tb]"
   ]
  },
  {
   "cell_type": "code",
   "execution_count": 8,
   "id": "fc91b118",
   "metadata": {},
   "outputs": [
    {
     "data": {
      "text/plain": [
       "array(['Tap & Barrel - Convention Centre', 'Tap & Barrel - Shipyards',\n",
       "       'Tap & Barrel - Olympic Village', 'Tap & Barrel - Bridges'],\n",
       "      dtype=object)"
      ]
     },
     "execution_count": 8,
     "metadata": {},
     "output_type": "execute_result"
    }
   ],
   "source": [
    "tb_df['restaurant'].unique()"
   ]
  },
  {
   "cell_type": "code",
   "execution_count": 9,
   "id": "5f227a56",
   "metadata": {},
   "outputs": [],
   "source": [
    "# replace all names above with \"Cactus Club Cafe\" or \"JOEY\" or \"Tap & Barrel\"\n",
    "\n",
    "# Define a dictionary for replacements\n",
    "replacements = {\n",
    "    'Cactus Club Cafe Coal Harbour': \"Cactus Club Cafe\", \n",
    "    'Cactus Club Cafe Robson': \"Cactus Club Cafe\",\n",
    "    'Cactus Club Cafe Bentall 5': \"Cactus Club Cafe\", \n",
    "    'Cactus Club Cafe Broadway + Ash': \"Cactus Club Cafe\",\n",
    "    'Cactus Club Cafe English Bay': \"Cactus Club Cafe\", \n",
    "    'Cactus Club Cafe Richmond': \"Cactus Club Cafe\",\n",
    "    'Cactus Club Cafe North Vancouver': \"Cactus Club Cafe\", \n",
    "    'Cactus Club Cafe Yaletown': \"Cactus Club Cafe\",\n",
    "    'Cactus Club Cafe North Burnaby': \"Cactus Club Cafe\", \n",
    "    'Cactus Club Cafe Park Royal': \"Cactus Club Cafe\",\n",
    "    'Cactus Club Cafe Byrne Road': \"Cactus Club Cafe\", \n",
    "    'Cactus Club Cafe': \"Cactus Club Cafe\",\n",
    "    'Cactus Club Cafe Station Square': \"Cactus Club Cafe\",\n",
    "    'JOEY Burrard': \"JOYE\",\n",
    "    'JOEY Bentall One': \"JOYE\", \n",
    "    'JOEY Shipyards': \"JOYE\",\n",
    "    'JOEY Burnaby': \"JOYE\",\n",
    "    'Tap & Barrel - Convention Centre': 'Tap & Barrel',\n",
    "    'Tap & Barrel - Shipyards': 'Tap & Barrel',\n",
    "    'Tap & Barrel - Olympic Village': 'Tap & Barrel', \n",
    "    'Tap & Barrel - Bridges': 'Tap & Barrel'\n",
    "}\n",
    "\n",
    "# Use the .replace() method to perform the replacements\n",
    "df['restaurant'] = df['restaurant'].replace(replacements)"
   ]
  },
  {
   "cell_type": "code",
   "execution_count": 10,
   "id": "b490ece2",
   "metadata": {},
   "outputs": [
    {
     "data": {
      "text/plain": [
       "restaurant      1\n",
       "review        326\n",
       "rating          2\n",
       "Cuisine         9\n",
       "dtype: int64"
      ]
     },
     "execution_count": 10,
     "metadata": {},
     "output_type": "execute_result"
    }
   ],
   "source": [
    "# Sanity check\n",
    "# Create a boolean mask to filter rows\n",
    "mask_check = df['restaurant'].str.contains('Cactus Club')\n",
    "\n",
    "# Use the mask to select the rows and create a new DataFrame\n",
    "cactus_club_df_check = df[mask_check]\n",
    "\n",
    "cactus_club_df_check.nunique()"
   ]
  },
  {
   "cell_type": "code",
   "execution_count": 11,
   "id": "adc8a155",
   "metadata": {},
   "outputs": [
    {
     "data": {
      "text/plain": [
       "restaurant      1\n",
       "review        115\n",
       "rating          2\n",
       "Cuisine         2\n",
       "dtype: int64"
      ]
     },
     "execution_count": 11,
     "metadata": {},
     "output_type": "execute_result"
    }
   ],
   "source": [
    "# Sanity check\n",
    "# Create a boolean mask to filter rows\n",
    "mask_check_j = df['restaurant'].str.contains('JOYE')\n",
    "\n",
    "# Use the mask to select the rows and create a new DataFrame\n",
    "joey_df_check = df[mask_check_j]\n",
    "\n",
    "joey_df_check.nunique()"
   ]
  },
  {
   "cell_type": "code",
   "execution_count": 12,
   "id": "1f55a4f1",
   "metadata": {},
   "outputs": [
    {
     "data": {
      "text/plain": [
       "restaurant     1\n",
       "review        98\n",
       "rating         1\n",
       "Cuisine        1\n",
       "dtype: int64"
      ]
     },
     "execution_count": 12,
     "metadata": {},
     "output_type": "execute_result"
    }
   ],
   "source": [
    "# Sanity check\n",
    "# Create a boolean mask to filter rows\n",
    "mask_check_tb = df['restaurant'].str.contains('Tap & Barrel')\n",
    "\n",
    "# Use the mask to select the rows and create a new DataFrame\n",
    "tb_df_check = df[mask_check_tb]\n",
    "\n",
    "tb_df_check.nunique()"
   ]
  },
  {
   "cell_type": "markdown",
   "id": "546a0c83",
   "metadata": {},
   "source": [
    "Let's group reviews by restaurant names and count the number of reviews for each restaurant."
   ]
  },
  {
   "cell_type": "code",
   "execution_count": 14,
   "id": "c752a7d3",
   "metadata": {
    "scrolled": true
   },
   "outputs": [
    {
     "data": {
      "text/html": [
       "<div>\n",
       "<style scoped>\n",
       "    .dataframe tbody tr th:only-of-type {\n",
       "        vertical-align: middle;\n",
       "    }\n",
       "\n",
       "    .dataframe tbody tr th {\n",
       "        vertical-align: top;\n",
       "    }\n",
       "\n",
       "    .dataframe thead th {\n",
       "        text-align: right;\n",
       "    }\n",
       "</style>\n",
       "<table border=\"1\" class=\"dataframe\">\n",
       "  <thead>\n",
       "    <tr style=\"text-align: right;\">\n",
       "      <th></th>\n",
       "      <th>restaurant</th>\n",
       "      <th>review</th>\n",
       "    </tr>\n",
       "  </thead>\n",
       "  <tbody>\n",
       "    <tr>\n",
       "      <th>0</th>\n",
       "      <td>1927 Lobby Lounge at Rosewood Hotel Georgia</td>\n",
       "      <td>26</td>\n",
       "    </tr>\n",
       "    <tr>\n",
       "      <th>1</th>\n",
       "      <td>1931 Gallery Bistro</td>\n",
       "      <td>15</td>\n",
       "    </tr>\n",
       "    <tr>\n",
       "      <th>2</th>\n",
       "      <td>33 Acres Brewing</td>\n",
       "      <td>15</td>\n",
       "    </tr>\n",
       "  </tbody>\n",
       "</table>\n",
       "</div>"
      ],
      "text/plain": [
       "                                    restaurant  review\n",
       "0  1927 Lobby Lounge at Rosewood Hotel Georgia      26\n",
       "1                          1931 Gallery Bistro      15\n",
       "2                             33 Acres Brewing      15"
      ]
     },
     "execution_count": 14,
     "metadata": {},
     "output_type": "execute_result"
    }
   ],
   "source": [
    "# calculate numbers of reviews for each restaurant\n",
    "df1 = df.groupby('restaurant')['review'].count().reset_index()\n",
    "df1.head(3)"
   ]
  },
  {
   "cell_type": "code",
   "execution_count": 15,
   "id": "13a94cfb",
   "metadata": {
    "scrolled": true
   },
   "outputs": [
    {
     "data": {
      "text/html": [
       "<div>\n",
       "<style scoped>\n",
       "    .dataframe tbody tr th:only-of-type {\n",
       "        vertical-align: middle;\n",
       "    }\n",
       "\n",
       "    .dataframe tbody tr th {\n",
       "        vertical-align: top;\n",
       "    }\n",
       "\n",
       "    .dataframe thead th {\n",
       "        text-align: right;\n",
       "    }\n",
       "</style>\n",
       "<table border=\"1\" class=\"dataframe\">\n",
       "  <thead>\n",
       "    <tr style=\"text-align: right;\">\n",
       "      <th></th>\n",
       "      <th>restaurant</th>\n",
       "      <th>review</th>\n",
       "    </tr>\n",
       "  </thead>\n",
       "  <tbody>\n",
       "    <tr>\n",
       "      <th>75</th>\n",
       "      <td>Beach Ave Bar and Grill</td>\n",
       "      <td>6</td>\n",
       "    </tr>\n",
       "    <tr>\n",
       "      <th>436</th>\n",
       "      <td>Kinkura Sushi</td>\n",
       "      <td>7</td>\n",
       "    </tr>\n",
       "    <tr>\n",
       "      <th>179</th>\n",
       "      <td>Chung Chun Rice Hot Dog</td>\n",
       "      <td>7</td>\n",
       "    </tr>\n",
       "    <tr>\n",
       "      <th>567</th>\n",
       "      <td>Nightshade Yvr</td>\n",
       "      <td>7</td>\n",
       "    </tr>\n",
       "    <tr>\n",
       "      <th>629</th>\n",
       "      <td>Pho Khanh Express</td>\n",
       "      <td>7</td>\n",
       "    </tr>\n",
       "    <tr>\n",
       "      <th>...</th>\n",
       "      <td>...</td>\n",
       "      <td>...</td>\n",
       "    </tr>\n",
       "    <tr>\n",
       "      <th>222</th>\n",
       "      <td>Denny's</td>\n",
       "      <td>180</td>\n",
       "    </tr>\n",
       "    <tr>\n",
       "      <th>549</th>\n",
       "      <td>Moxies</td>\n",
       "      <td>186</td>\n",
       "    </tr>\n",
       "    <tr>\n",
       "      <th>125</th>\n",
       "      <td>Burgoo</td>\n",
       "      <td>240</td>\n",
       "    </tr>\n",
       "    <tr>\n",
       "      <th>134</th>\n",
       "      <td>Cactus Club Cafe</td>\n",
       "      <td>326</td>\n",
       "    </tr>\n",
       "    <tr>\n",
       "      <th>295</th>\n",
       "      <td>Freshslice Pizza</td>\n",
       "      <td>540</td>\n",
       "    </tr>\n",
       "  </tbody>\n",
       "</table>\n",
       "<p>991 rows × 2 columns</p>\n",
       "</div>"
      ],
      "text/plain": [
       "                  restaurant  review\n",
       "75   Beach Ave Bar and Grill       6\n",
       "436            Kinkura Sushi       7\n",
       "179  Chung Chun Rice Hot Dog       7\n",
       "567           Nightshade Yvr       7\n",
       "629        Pho Khanh Express       7\n",
       "..                       ...     ...\n",
       "222                  Denny's     180\n",
       "549                   Moxies     186\n",
       "125                   Burgoo     240\n",
       "134         Cactus Club Cafe     326\n",
       "295         Freshslice Pizza     540\n",
       "\n",
       "[991 rows x 2 columns]"
      ]
     },
     "execution_count": 15,
     "metadata": {},
     "output_type": "execute_result"
    }
   ],
   "source": [
    "df1_sorted = df1.sort_values(by='review')\n",
    "df1_sorted"
   ]
  },
  {
   "cell_type": "markdown",
   "id": "669a9ec2",
   "metadata": {},
   "source": [
    "Freshslice Pizza stands out with a notably higher number of reviews compared to the other restaurants. To ensure a fair comparison, let's remove this outlier from the dataset."
   ]
  },
  {
   "cell_type": "code",
   "execution_count": 16,
   "id": "a8acfd2e",
   "metadata": {},
   "outputs": [],
   "source": [
    "# delete outlier\n",
    "\n",
    "rows_to_delete = df[df['restaurant'] == 'Freshslice Pizza'].index\n",
    "\n",
    "# Drop the rows by index\n",
    "df = df.drop(rows_to_delete)"
   ]
  },
  {
   "cell_type": "markdown",
   "id": "9abe842d",
   "metadata": {},
   "source": [
    "For the next step, let's consolidate the reviews for each restaurant into a single column."
   ]
  },
  {
   "cell_type": "code",
   "execution_count": 20,
   "id": "00983901",
   "metadata": {},
   "outputs": [],
   "source": [
    "# convert reviews in string \n",
    "df['review'] = df['review'].astype(str)"
   ]
  },
  {
   "cell_type": "code",
   "execution_count": 21,
   "id": "0c1db005",
   "metadata": {},
   "outputs": [
    {
     "data": {
      "text/html": [
       "<div>\n",
       "<style scoped>\n",
       "    .dataframe tbody tr th:only-of-type {\n",
       "        vertical-align: middle;\n",
       "    }\n",
       "\n",
       "    .dataframe tbody tr th {\n",
       "        vertical-align: top;\n",
       "    }\n",
       "\n",
       "    .dataframe thead th {\n",
       "        text-align: right;\n",
       "    }\n",
       "</style>\n",
       "<table border=\"1\" class=\"dataframe\">\n",
       "  <thead>\n",
       "    <tr style=\"text-align: right;\">\n",
       "      <th></th>\n",
       "      <th>restaurant</th>\n",
       "      <th>review</th>\n",
       "    </tr>\n",
       "  </thead>\n",
       "  <tbody>\n",
       "    <tr>\n",
       "      <th>0</th>\n",
       "      <td>1927 Lobby Lounge at Rosewood Hotel Georgia</td>\n",
       "      <td>My wife and I dropped in here today, around 1:...</td>\n",
       "    </tr>\n",
       "    <tr>\n",
       "      <th>1</th>\n",
       "      <td>1931 Gallery Bistro</td>\n",
       "      <td>You used to get a nice lunch up above the art ...</td>\n",
       "    </tr>\n",
       "    <tr>\n",
       "      <th>2</th>\n",
       "      <td>33 Acres Brewing</td>\n",
       "      <td>Fourth stop on our Mt Pleasant self-guided bre...</td>\n",
       "    </tr>\n",
       "  </tbody>\n",
       "</table>\n",
       "</div>"
      ],
      "text/plain": [
       "                                    restaurant  \\\n",
       "0  1927 Lobby Lounge at Rosewood Hotel Georgia   \n",
       "1                          1931 Gallery Bistro   \n",
       "2                             33 Acres Brewing   \n",
       "\n",
       "                                              review  \n",
       "0  My wife and I dropped in here today, around 1:...  \n",
       "1  You used to get a nice lunch up above the art ...  \n",
       "2  Fourth stop on our Mt Pleasant self-guided bre...  "
      ]
     },
     "execution_count": 21,
     "metadata": {},
     "output_type": "execute_result"
    }
   ],
   "source": [
    "# Let's group data table by restaurant and create a list of reviews for each restaurant.\n",
    "df_rest  = df.groupby('restaurant')['review'].apply(lambda x: '\\n'.join(x)).reset_index()\n",
    "df_rest.head(3)"
   ]
  },
  {
   "cell_type": "code",
   "execution_count": 22,
   "id": "8772213a",
   "metadata": {},
   "outputs": [
    {
     "data": {
      "text/html": [
       "<div>\n",
       "<style scoped>\n",
       "    .dataframe tbody tr th:only-of-type {\n",
       "        vertical-align: middle;\n",
       "    }\n",
       "\n",
       "    .dataframe tbody tr th {\n",
       "        vertical-align: top;\n",
       "    }\n",
       "\n",
       "    .dataframe thead th {\n",
       "        text-align: right;\n",
       "    }\n",
       "</style>\n",
       "<table border=\"1\" class=\"dataframe\">\n",
       "  <thead>\n",
       "    <tr style=\"text-align: right;\">\n",
       "      <th></th>\n",
       "      <th>restaurant</th>\n",
       "      <th>review_x</th>\n",
       "      <th>review_y</th>\n",
       "    </tr>\n",
       "  </thead>\n",
       "  <tbody>\n",
       "    <tr>\n",
       "      <th>0</th>\n",
       "      <td>1927 Lobby Lounge at Rosewood Hotel Georgia</td>\n",
       "      <td>My wife and I dropped in here today, around 1:...</td>\n",
       "      <td>26</td>\n",
       "    </tr>\n",
       "    <tr>\n",
       "      <th>1</th>\n",
       "      <td>1931 Gallery Bistro</td>\n",
       "      <td>You used to get a nice lunch up above the art ...</td>\n",
       "      <td>15</td>\n",
       "    </tr>\n",
       "    <tr>\n",
       "      <th>2</th>\n",
       "      <td>33 Acres Brewing</td>\n",
       "      <td>Fourth stop on our Mt Pleasant self-guided bre...</td>\n",
       "      <td>15</td>\n",
       "    </tr>\n",
       "    <tr>\n",
       "      <th>3</th>\n",
       "      <td>4 Stones Vegetarian Cuisine</td>\n",
       "      <td>I was traveling a lot and had a layover so I t...</td>\n",
       "      <td>16</td>\n",
       "    </tr>\n",
       "    <tr>\n",
       "      <th>4</th>\n",
       "      <td>75 West Coast Grill</td>\n",
       "      <td>I’d been curious about 75 West Coast Grill for...</td>\n",
       "      <td>19</td>\n",
       "    </tr>\n",
       "  </tbody>\n",
       "</table>\n",
       "</div>"
      ],
      "text/plain": [
       "                                    restaurant  \\\n",
       "0  1927 Lobby Lounge at Rosewood Hotel Georgia   \n",
       "1                          1931 Gallery Bistro   \n",
       "2                             33 Acres Brewing   \n",
       "3                  4 Stones Vegetarian Cuisine   \n",
       "4                          75 West Coast Grill   \n",
       "\n",
       "                                            review_x  review_y  \n",
       "0  My wife and I dropped in here today, around 1:...        26  \n",
       "1  You used to get a nice lunch up above the art ...        15  \n",
       "2  Fourth stop on our Mt Pleasant self-guided bre...        15  \n",
       "3  I was traveling a lot and had a layover so I t...        16  \n",
       "4  I’d been curious about 75 West Coast Grill for...        19  "
      ]
     },
     "execution_count": 22,
     "metadata": {},
     "output_type": "execute_result"
    }
   ],
   "source": [
    "# Let's megre restaurant reviews and number of reviews\n",
    "df_rest = df_rest.merge(df1, on='restaurant', how='left')\n",
    "df_rest.head(5)"
   ]
  },
  {
   "cell_type": "code",
   "execution_count": 23,
   "id": "9c6bb972",
   "metadata": {},
   "outputs": [
    {
     "data": {
      "text/html": [
       "<div>\n",
       "<style scoped>\n",
       "    .dataframe tbody tr th:only-of-type {\n",
       "        vertical-align: middle;\n",
       "    }\n",
       "\n",
       "    .dataframe tbody tr th {\n",
       "        vertical-align: top;\n",
       "    }\n",
       "\n",
       "    .dataframe thead th {\n",
       "        text-align: right;\n",
       "    }\n",
       "</style>\n",
       "<table border=\"1\" class=\"dataframe\">\n",
       "  <thead>\n",
       "    <tr style=\"text-align: right;\">\n",
       "      <th></th>\n",
       "      <th>restaurant</th>\n",
       "      <th>review</th>\n",
       "      <th>review_count</th>\n",
       "    </tr>\n",
       "  </thead>\n",
       "  <tbody>\n",
       "    <tr>\n",
       "      <th>0</th>\n",
       "      <td>1927 Lobby Lounge at Rosewood Hotel Georgia</td>\n",
       "      <td>My wife and I dropped in here today, around 1:...</td>\n",
       "      <td>26</td>\n",
       "    </tr>\n",
       "    <tr>\n",
       "      <th>1</th>\n",
       "      <td>1931 Gallery Bistro</td>\n",
       "      <td>You used to get a nice lunch up above the art ...</td>\n",
       "      <td>15</td>\n",
       "    </tr>\n",
       "    <tr>\n",
       "      <th>2</th>\n",
       "      <td>33 Acres Brewing</td>\n",
       "      <td>Fourth stop on our Mt Pleasant self-guided bre...</td>\n",
       "      <td>15</td>\n",
       "    </tr>\n",
       "  </tbody>\n",
       "</table>\n",
       "</div>"
      ],
      "text/plain": [
       "                                    restaurant  \\\n",
       "0  1927 Lobby Lounge at Rosewood Hotel Georgia   \n",
       "1                          1931 Gallery Bistro   \n",
       "2                             33 Acres Brewing   \n",
       "\n",
       "                                              review  review_count  \n",
       "0  My wife and I dropped in here today, around 1:...            26  \n",
       "1  You used to get a nice lunch up above the art ...            15  \n",
       "2  Fourth stop on our Mt Pleasant self-guided bre...            15  "
      ]
     },
     "execution_count": 23,
     "metadata": {},
     "output_type": "execute_result"
    }
   ],
   "source": [
    "# Let's rename column names\n",
    "df_rest = df_rest.rename(columns = {'review_x': 'review'})\n",
    "df_rest = df_rest.rename(columns = {'review_y': 'review_count'})\n",
    "df_rest.head(3)"
   ]
  },
  {
   "cell_type": "code",
   "execution_count": 24,
   "id": "90c9f2ec",
   "metadata": {},
   "outputs": [],
   "source": [
    "#save file\n",
    "df_rest.to_csv('df_for_app', index=False)"
   ]
  },
  {
   "cell_type": "markdown",
   "id": "cc826cf5",
   "metadata": {},
   "source": [
    "To enhance the convenience of our application, let's include restaurant links in our DataFrame."
   ]
  },
  {
   "cell_type": "code",
   "execution_count": 25,
   "id": "d7776dc6",
   "metadata": {},
   "outputs": [],
   "source": [
    "links = pd.read_csv('/Users/evgenijkucukov/Desktop/Brainstation/Portfolio/Restaurant_reviews_project/df_restaurants_info_1')"
   ]
  },
  {
   "cell_type": "code",
   "execution_count": 26,
   "id": "06462561",
   "metadata": {},
   "outputs": [
    {
     "data": {
      "text/html": [
       "<div>\n",
       "<style scoped>\n",
       "    .dataframe tbody tr th:only-of-type {\n",
       "        vertical-align: middle;\n",
       "    }\n",
       "\n",
       "    .dataframe tbody tr th {\n",
       "        vertical-align: top;\n",
       "    }\n",
       "\n",
       "    .dataframe thead th {\n",
       "        text-align: right;\n",
       "    }\n",
       "</style>\n",
       "<table border=\"1\" class=\"dataframe\">\n",
       "  <thead>\n",
       "    <tr style=\"text-align: right;\">\n",
       "      <th></th>\n",
       "      <th>name</th>\n",
       "      <th>url</th>\n",
       "    </tr>\n",
       "  </thead>\n",
       "  <tbody>\n",
       "    <tr>\n",
       "      <th>0</th>\n",
       "      <td>Freshslice Pizza</td>\n",
       "      <td>https://www.tripadvisor.com/Restaurant_Review-...</td>\n",
       "    </tr>\n",
       "    <tr>\n",
       "      <th>1</th>\n",
       "      <td>1. Hydra Estiatorio Mediterranean</td>\n",
       "      <td>https://www.tripadvisor.com/Restaurant_Review-...</td>\n",
       "    </tr>\n",
       "    <tr>\n",
       "      <th>2</th>\n",
       "      <td>2. Alouette Bistro</td>\n",
       "      <td>https://www.tripadvisor.com/Restaurant_Review-...</td>\n",
       "    </tr>\n",
       "  </tbody>\n",
       "</table>\n",
       "</div>"
      ],
      "text/plain": [
       "                                name  \\\n",
       "0                   Freshslice Pizza   \n",
       "1  1. Hydra Estiatorio Mediterranean   \n",
       "2                 2. Alouette Bistro   \n",
       "\n",
       "                                                 url  \n",
       "0  https://www.tripadvisor.com/Restaurant_Review-...  \n",
       "1  https://www.tripadvisor.com/Restaurant_Review-...  \n",
       "2  https://www.tripadvisor.com/Restaurant_Review-...  "
      ]
     },
     "execution_count": 26,
     "metadata": {},
     "output_type": "execute_result"
    }
   ],
   "source": [
    "links.head(3)"
   ]
  },
  {
   "cell_type": "markdown",
   "id": "503904f7",
   "metadata": {},
   "source": [
    "To merge our DataFrame with restaurant links, we'll begin by renaming a column in the links data table."
   ]
  },
  {
   "cell_type": "code",
   "execution_count": 29,
   "id": "3dce23fa",
   "metadata": {},
   "outputs": [],
   "source": [
    "links = links.rename(columns = {'name': 'restaurant'})"
   ]
  },
  {
   "cell_type": "code",
   "execution_count": 30,
   "id": "e9bba132",
   "metadata": {},
   "outputs": [],
   "source": [
    "links['restaurant'] = links['restaurant'].str.replace(r'^\\d+\\. ', '',regex=True)\n"
   ]
  },
  {
   "cell_type": "code",
   "execution_count": 31,
   "id": "ef300516",
   "metadata": {},
   "outputs": [
    {
     "data": {
      "text/html": [
       "<div>\n",
       "<style scoped>\n",
       "    .dataframe tbody tr th:only-of-type {\n",
       "        vertical-align: middle;\n",
       "    }\n",
       "\n",
       "    .dataframe tbody tr th {\n",
       "        vertical-align: top;\n",
       "    }\n",
       "\n",
       "    .dataframe thead th {\n",
       "        text-align: right;\n",
       "    }\n",
       "</style>\n",
       "<table border=\"1\" class=\"dataframe\">\n",
       "  <thead>\n",
       "    <tr style=\"text-align: right;\">\n",
       "      <th></th>\n",
       "      <th>restaurant</th>\n",
       "      <th>review</th>\n",
       "      <th>review_count</th>\n",
       "      <th>url</th>\n",
       "    </tr>\n",
       "  </thead>\n",
       "  <tbody>\n",
       "    <tr>\n",
       "      <th>0</th>\n",
       "      <td>1927 Lobby Lounge at Rosewood Hotel Georgia</td>\n",
       "      <td>My wife and I dropped in here today, around 1:...</td>\n",
       "      <td>26</td>\n",
       "      <td>https://www.tripadvisor.com/Restaurant_Review-...</td>\n",
       "    </tr>\n",
       "    <tr>\n",
       "      <th>1</th>\n",
       "      <td>1931 Gallery Bistro</td>\n",
       "      <td>You used to get a nice lunch up above the art ...</td>\n",
       "      <td>15</td>\n",
       "      <td>https://www.tripadvisor.com/Restaurant_Review-...</td>\n",
       "    </tr>\n",
       "    <tr>\n",
       "      <th>2</th>\n",
       "      <td>33 Acres Brewing</td>\n",
       "      <td>Fourth stop on our Mt Pleasant self-guided bre...</td>\n",
       "      <td>15</td>\n",
       "      <td>https://www.tripadvisor.com/Restaurant_Review-...</td>\n",
       "    </tr>\n",
       "    <tr>\n",
       "      <th>3</th>\n",
       "      <td>4 Stones Vegetarian Cuisine</td>\n",
       "      <td>I was traveling a lot and had a layover so I t...</td>\n",
       "      <td>16</td>\n",
       "      <td>https://www.tripadvisor.com/Restaurant_Review-...</td>\n",
       "    </tr>\n",
       "    <tr>\n",
       "      <th>4</th>\n",
       "      <td>75 West Coast Grill</td>\n",
       "      <td>I’d been curious about 75 West Coast Grill for...</td>\n",
       "      <td>19</td>\n",
       "      <td>https://www.tripadvisor.com/Restaurant_Review-...</td>\n",
       "    </tr>\n",
       "    <tr>\n",
       "      <th>...</th>\n",
       "      <td>...</td>\n",
       "      <td>...</td>\n",
       "      <td>...</td>\n",
       "      <td>...</td>\n",
       "    </tr>\n",
       "    <tr>\n",
       "      <th>1021</th>\n",
       "      <td>iDen &amp; Quan Ju De Beijing Duck House</td>\n",
       "      <td>这家环境和服务(full service)一流，是按欧美方式经营的fine dining. ...</td>\n",
       "      <td>15</td>\n",
       "      <td>https://www.tripadvisor.com/Restaurant_Review-...</td>\n",
       "    </tr>\n",
       "    <tr>\n",
       "      <th>1022</th>\n",
       "      <td>sushi California</td>\n",
       "      <td>really nice sushi and appetizer big menu, diff...</td>\n",
       "      <td>15</td>\n",
       "      <td>https://www.tripadvisor.com/Restaurant_Review-...</td>\n",
       "    </tr>\n",
       "    <tr>\n",
       "      <th>1023</th>\n",
       "      <td>tetsu Sushi</td>\n",
       "      <td>A fabulous place for true sushi lovers. Excell...</td>\n",
       "      <td>15</td>\n",
       "      <td>https://www.tripadvisor.com/Restaurant_Review-...</td>\n",
       "    </tr>\n",
       "    <tr>\n",
       "      <th>1024</th>\n",
       "      <td>the apron</td>\n",
       "      <td>Very tasty food, however, VERY expensive. Menu...</td>\n",
       "      <td>15</td>\n",
       "      <td>https://www.tripadvisor.com/Restaurant_Review-...</td>\n",
       "    </tr>\n",
       "    <tr>\n",
       "      <th>1025</th>\n",
       "      <td>the change</td>\n",
       "      <td>Amaizing place. Beautiful view, good food, gre...</td>\n",
       "      <td>16</td>\n",
       "      <td>https://www.tripadvisor.com/Restaurant_Review-...</td>\n",
       "    </tr>\n",
       "  </tbody>\n",
       "</table>\n",
       "<p>1026 rows × 4 columns</p>\n",
       "</div>"
      ],
      "text/plain": [
       "                                       restaurant  \\\n",
       "0     1927 Lobby Lounge at Rosewood Hotel Georgia   \n",
       "1                             1931 Gallery Bistro   \n",
       "2                                33 Acres Brewing   \n",
       "3                     4 Stones Vegetarian Cuisine   \n",
       "4                             75 West Coast Grill   \n",
       "...                                           ...   \n",
       "1021         iDen & Quan Ju De Beijing Duck House   \n",
       "1022                             sushi California   \n",
       "1023                                  tetsu Sushi   \n",
       "1024                                    the apron   \n",
       "1025                                   the change   \n",
       "\n",
       "                                                 review  review_count  \\\n",
       "0     My wife and I dropped in here today, around 1:...            26   \n",
       "1     You used to get a nice lunch up above the art ...            15   \n",
       "2     Fourth stop on our Mt Pleasant self-guided bre...            15   \n",
       "3     I was traveling a lot and had a layover so I t...            16   \n",
       "4     I’d been curious about 75 West Coast Grill for...            19   \n",
       "...                                                 ...           ...   \n",
       "1021  这家环境和服务(full service)一流，是按欧美方式经营的fine dining. ...            15   \n",
       "1022  really nice sushi and appetizer big menu, diff...            15   \n",
       "1023  A fabulous place for true sushi lovers. Excell...            15   \n",
       "1024  Very tasty food, however, VERY expensive. Menu...            15   \n",
       "1025  Amaizing place. Beautiful view, good food, gre...            16   \n",
       "\n",
       "                                                    url  \n",
       "0     https://www.tripadvisor.com/Restaurant_Review-...  \n",
       "1     https://www.tripadvisor.com/Restaurant_Review-...  \n",
       "2     https://www.tripadvisor.com/Restaurant_Review-...  \n",
       "3     https://www.tripadvisor.com/Restaurant_Review-...  \n",
       "4     https://www.tripadvisor.com/Restaurant_Review-...  \n",
       "...                                                 ...  \n",
       "1021  https://www.tripadvisor.com/Restaurant_Review-...  \n",
       "1022  https://www.tripadvisor.com/Restaurant_Review-...  \n",
       "1023  https://www.tripadvisor.com/Restaurant_Review-...  \n",
       "1024  https://www.tripadvisor.com/Restaurant_Review-...  \n",
       "1025  https://www.tripadvisor.com/Restaurant_Review-...  \n",
       "\n",
       "[1026 rows x 4 columns]"
      ]
     },
     "execution_count": 31,
     "metadata": {},
     "output_type": "execute_result"
    }
   ],
   "source": [
    "df2 = df_rest.merge(links, on = 'restaurant', how='left' )\n",
    "df2"
   ]
  },
  {
   "cell_type": "markdown",
   "id": "45bcd1cc",
   "metadata": {},
   "source": [
    "Let's ensure that we have a single link associated with each restaurant."
   ]
  },
  {
   "cell_type": "code",
   "execution_count": 32,
   "id": "2bd34d5b",
   "metadata": {},
   "outputs": [
    {
     "data": {
      "text/html": [
       "<div>\n",
       "<style scoped>\n",
       "    .dataframe tbody tr th:only-of-type {\n",
       "        vertical-align: middle;\n",
       "    }\n",
       "\n",
       "    .dataframe tbody tr th {\n",
       "        vertical-align: top;\n",
       "    }\n",
       "\n",
       "    .dataframe thead th {\n",
       "        text-align: right;\n",
       "    }\n",
       "</style>\n",
       "<table border=\"1\" class=\"dataframe\">\n",
       "  <thead>\n",
       "    <tr style=\"text-align: right;\">\n",
       "      <th></th>\n",
       "      <th>restaurant</th>\n",
       "      <th>url</th>\n",
       "    </tr>\n",
       "  </thead>\n",
       "  <tbody>\n",
       "    <tr>\n",
       "      <th>0</th>\n",
       "      <td>1927 Lobby Lounge at Rosewood Hotel Georgia</td>\n",
       "      <td>1</td>\n",
       "    </tr>\n",
       "    <tr>\n",
       "      <th>1</th>\n",
       "      <td>1931 Gallery Bistro</td>\n",
       "      <td>1</td>\n",
       "    </tr>\n",
       "    <tr>\n",
       "      <th>2</th>\n",
       "      <td>33 Acres Brewing</td>\n",
       "      <td>1</td>\n",
       "    </tr>\n",
       "    <tr>\n",
       "      <th>3</th>\n",
       "      <td>4 Stones Vegetarian Cuisine</td>\n",
       "      <td>1</td>\n",
       "    </tr>\n",
       "    <tr>\n",
       "      <th>4</th>\n",
       "      <td>75 West Coast Grill</td>\n",
       "      <td>1</td>\n",
       "    </tr>\n",
       "    <tr>\n",
       "      <th>...</th>\n",
       "      <td>...</td>\n",
       "      <td>...</td>\n",
       "    </tr>\n",
       "    <tr>\n",
       "      <th>985</th>\n",
       "      <td>iDen &amp; Quan Ju De Beijing Duck House</td>\n",
       "      <td>1</td>\n",
       "    </tr>\n",
       "    <tr>\n",
       "      <th>986</th>\n",
       "      <td>sushi California</td>\n",
       "      <td>1</td>\n",
       "    </tr>\n",
       "    <tr>\n",
       "      <th>987</th>\n",
       "      <td>tetsu Sushi</td>\n",
       "      <td>1</td>\n",
       "    </tr>\n",
       "    <tr>\n",
       "      <th>988</th>\n",
       "      <td>the apron</td>\n",
       "      <td>1</td>\n",
       "    </tr>\n",
       "    <tr>\n",
       "      <th>989</th>\n",
       "      <td>the change</td>\n",
       "      <td>1</td>\n",
       "    </tr>\n",
       "  </tbody>\n",
       "</table>\n",
       "<p>990 rows × 2 columns</p>\n",
       "</div>"
      ],
      "text/plain": [
       "                                      restaurant  url\n",
       "0    1927 Lobby Lounge at Rosewood Hotel Georgia    1\n",
       "1                            1931 Gallery Bistro    1\n",
       "2                               33 Acres Brewing    1\n",
       "3                    4 Stones Vegetarian Cuisine    1\n",
       "4                            75 West Coast Grill    1\n",
       "..                                           ...  ...\n",
       "985         iDen & Quan Ju De Beijing Duck House    1\n",
       "986                             sushi California    1\n",
       "987                                  tetsu Sushi    1\n",
       "988                                    the apron    1\n",
       "989                                   the change    1\n",
       "\n",
       "[990 rows x 2 columns]"
      ]
     },
     "execution_count": 32,
     "metadata": {},
     "output_type": "execute_result"
    }
   ],
   "source": [
    "url_counts = df2.groupby('restaurant')['url'].nunique().reset_index()\n",
    "url_counts"
   ]
  },
  {
   "cell_type": "code",
   "execution_count": 33,
   "id": "054f7e7c",
   "metadata": {},
   "outputs": [
    {
     "data": {
      "text/html": [
       "<div>\n",
       "<style scoped>\n",
       "    .dataframe tbody tr th:only-of-type {\n",
       "        vertical-align: middle;\n",
       "    }\n",
       "\n",
       "    .dataframe tbody tr th {\n",
       "        vertical-align: top;\n",
       "    }\n",
       "\n",
       "    .dataframe thead th {\n",
       "        text-align: right;\n",
       "    }\n",
       "</style>\n",
       "<table border=\"1\" class=\"dataframe\">\n",
       "  <thead>\n",
       "    <tr style=\"text-align: right;\">\n",
       "      <th></th>\n",
       "      <th>restaurant</th>\n",
       "      <th>url</th>\n",
       "    </tr>\n",
       "  </thead>\n",
       "  <tbody>\n",
       "    <tr>\n",
       "      <th>64</th>\n",
       "      <td>Banana Leaf Malaysian Cuisine</td>\n",
       "      <td>2</td>\n",
       "    </tr>\n",
       "    <tr>\n",
       "      <th>81</th>\n",
       "      <td>Bellaggio Cafe</td>\n",
       "      <td>2</td>\n",
       "    </tr>\n",
       "    <tr>\n",
       "      <th>98</th>\n",
       "      <td>Bob Likes Thai Food</td>\n",
       "      <td>2</td>\n",
       "    </tr>\n",
       "    <tr>\n",
       "      <th>116</th>\n",
       "      <td>Browns Socialhouse</td>\n",
       "      <td>2</td>\n",
       "    </tr>\n",
       "    <tr>\n",
       "      <th>125</th>\n",
       "      <td>Burgoo</td>\n",
       "      <td>4</td>\n",
       "    </tr>\n",
       "    <tr>\n",
       "      <th>130</th>\n",
       "      <td>C-Lovers Fish &amp; Chips</td>\n",
       "      <td>2</td>\n",
       "    </tr>\n",
       "    <tr>\n",
       "      <th>165</th>\n",
       "      <td>Chef Hung Taiwanese Beef Noodle</td>\n",
       "      <td>2</td>\n",
       "    </tr>\n",
       "    <tr>\n",
       "      <th>177</th>\n",
       "      <td>Chongqing</td>\n",
       "      <td>2</td>\n",
       "    </tr>\n",
       "    <tr>\n",
       "      <th>178</th>\n",
       "      <td>Chop Steakhouse &amp; Bar</td>\n",
       "      <td>2</td>\n",
       "    </tr>\n",
       "    <tr>\n",
       "      <th>222</th>\n",
       "      <td>Denny's</td>\n",
       "      <td>4</td>\n",
       "    </tr>\n",
       "    <tr>\n",
       "      <th>331</th>\n",
       "      <td>Gyu-Kaku Japanese BBQ</td>\n",
       "      <td>3</td>\n",
       "    </tr>\n",
       "    <tr>\n",
       "      <th>403</th>\n",
       "      <td>Japadog</td>\n",
       "      <td>2</td>\n",
       "    </tr>\n",
       "    <tr>\n",
       "      <th>438</th>\n",
       "      <td>Kirin Seafood Restaurant</td>\n",
       "      <td>2</td>\n",
       "    </tr>\n",
       "    <tr>\n",
       "      <th>514</th>\n",
       "      <td>Maruhachi Ra-men</td>\n",
       "      <td>2</td>\n",
       "    </tr>\n",
       "    <tr>\n",
       "      <th>543</th>\n",
       "      <td>Momo Sushi</td>\n",
       "      <td>2</td>\n",
       "    </tr>\n",
       "    <tr>\n",
       "      <th>548</th>\n",
       "      <td>Moxies</td>\n",
       "      <td>3</td>\n",
       "    </tr>\n",
       "    <tr>\n",
       "      <th>550</th>\n",
       "      <td>Mr. Red Cafe</td>\n",
       "      <td>2</td>\n",
       "    </tr>\n",
       "    <tr>\n",
       "      <th>558</th>\n",
       "      <td>Nat's New York Pizzaria</td>\n",
       "      <td>2</td>\n",
       "    </tr>\n",
       "    <tr>\n",
       "      <th>570</th>\n",
       "      <td>Nook</td>\n",
       "      <td>2</td>\n",
       "    </tr>\n",
       "    <tr>\n",
       "      <th>574</th>\n",
       "      <td>Nuba</td>\n",
       "      <td>3</td>\n",
       "    </tr>\n",
       "    <tr>\n",
       "      <th>595</th>\n",
       "      <td>Osaka Sushi</td>\n",
       "      <td>2</td>\n",
       "    </tr>\n",
       "    <tr>\n",
       "      <th>614</th>\n",
       "      <td>Peaceful Restaurant</td>\n",
       "      <td>3</td>\n",
       "    </tr>\n",
       "    <tr>\n",
       "      <th>742</th>\n",
       "      <td>Sopra Sotto</td>\n",
       "      <td>2</td>\n",
       "    </tr>\n",
       "    <tr>\n",
       "      <th>761</th>\n",
       "      <td>Sula Indian Restaurant</td>\n",
       "      <td>2</td>\n",
       "    </tr>\n",
       "    <tr>\n",
       "      <th>791</th>\n",
       "      <td>Tacofino</td>\n",
       "      <td>2</td>\n",
       "    </tr>\n",
       "    <tr>\n",
       "      <th>800</th>\n",
       "      <td>Tamarind Hill Malaysian Cuisine</td>\n",
       "      <td>2</td>\n",
       "    </tr>\n",
       "    <tr>\n",
       "      <th>818</th>\n",
       "      <td>Thai House Restaurant</td>\n",
       "      <td>2</td>\n",
       "    </tr>\n",
       "    <tr>\n",
       "      <th>973</th>\n",
       "      <td>Yolks</td>\n",
       "      <td>2</td>\n",
       "    </tr>\n",
       "  </tbody>\n",
       "</table>\n",
       "</div>"
      ],
      "text/plain": [
       "                          restaurant  url\n",
       "64     Banana Leaf Malaysian Cuisine    2\n",
       "81                    Bellaggio Cafe    2\n",
       "98               Bob Likes Thai Food    2\n",
       "116               Browns Socialhouse    2\n",
       "125                           Burgoo    4\n",
       "130            C-Lovers Fish & Chips    2\n",
       "165  Chef Hung Taiwanese Beef Noodle    2\n",
       "177                        Chongqing    2\n",
       "178            Chop Steakhouse & Bar    2\n",
       "222                          Denny's    4\n",
       "331            Gyu-Kaku Japanese BBQ    3\n",
       "403                          Japadog    2\n",
       "438         Kirin Seafood Restaurant    2\n",
       "514                 Maruhachi Ra-men    2\n",
       "543                       Momo Sushi    2\n",
       "548                           Moxies    3\n",
       "550                     Mr. Red Cafe    2\n",
       "558          Nat's New York Pizzaria    2\n",
       "570                             Nook    2\n",
       "574                             Nuba    3\n",
       "595                      Osaka Sushi    2\n",
       "614              Peaceful Restaurant    3\n",
       "742                      Sopra Sotto    2\n",
       "761           Sula Indian Restaurant    2\n",
       "791                         Tacofino    2\n",
       "800  Tamarind Hill Malaysian Cuisine    2\n",
       "818            Thai House Restaurant    2\n",
       "973                            Yolks    2"
      ]
     },
     "execution_count": 33,
     "metadata": {},
     "output_type": "execute_result"
    }
   ],
   "source": [
    "# Check which restaurants have more than 1 link\n",
    "duplicate_rest = url_counts[url_counts['url'] > 1]\n",
    "duplicate_rest"
   ]
  },
  {
   "cell_type": "code",
   "execution_count": 34,
   "id": "0df6952f",
   "metadata": {},
   "outputs": [],
   "source": [
    "# Let's delete duplicates\n",
    "df2 = df2[~df2['restaurant'].duplicated(keep='first')]"
   ]
  },
  {
   "cell_type": "code",
   "execution_count": 35,
   "id": "9d274ad9",
   "metadata": {},
   "outputs": [
    {
     "data": {
      "text/html": [
       "<div>\n",
       "<style scoped>\n",
       "    .dataframe tbody tr th:only-of-type {\n",
       "        vertical-align: middle;\n",
       "    }\n",
       "\n",
       "    .dataframe tbody tr th {\n",
       "        vertical-align: top;\n",
       "    }\n",
       "\n",
       "    .dataframe thead th {\n",
       "        text-align: right;\n",
       "    }\n",
       "</style>\n",
       "<table border=\"1\" class=\"dataframe\">\n",
       "  <thead>\n",
       "    <tr style=\"text-align: right;\">\n",
       "      <th></th>\n",
       "      <th>restaurant</th>\n",
       "      <th>url</th>\n",
       "    </tr>\n",
       "  </thead>\n",
       "  <tbody>\n",
       "    <tr>\n",
       "      <th>0</th>\n",
       "      <td>1927 Lobby Lounge at Rosewood Hotel Georgia</td>\n",
       "      <td>1</td>\n",
       "    </tr>\n",
       "    <tr>\n",
       "      <th>1</th>\n",
       "      <td>1931 Gallery Bistro</td>\n",
       "      <td>1</td>\n",
       "    </tr>\n",
       "    <tr>\n",
       "      <th>2</th>\n",
       "      <td>33 Acres Brewing</td>\n",
       "      <td>1</td>\n",
       "    </tr>\n",
       "    <tr>\n",
       "      <th>3</th>\n",
       "      <td>4 Stones Vegetarian Cuisine</td>\n",
       "      <td>1</td>\n",
       "    </tr>\n",
       "    <tr>\n",
       "      <th>4</th>\n",
       "      <td>75 West Coast Grill</td>\n",
       "      <td>1</td>\n",
       "    </tr>\n",
       "    <tr>\n",
       "      <th>...</th>\n",
       "      <td>...</td>\n",
       "      <td>...</td>\n",
       "    </tr>\n",
       "    <tr>\n",
       "      <th>985</th>\n",
       "      <td>iDen &amp; Quan Ju De Beijing Duck House</td>\n",
       "      <td>1</td>\n",
       "    </tr>\n",
       "    <tr>\n",
       "      <th>986</th>\n",
       "      <td>sushi California</td>\n",
       "      <td>1</td>\n",
       "    </tr>\n",
       "    <tr>\n",
       "      <th>987</th>\n",
       "      <td>tetsu Sushi</td>\n",
       "      <td>1</td>\n",
       "    </tr>\n",
       "    <tr>\n",
       "      <th>988</th>\n",
       "      <td>the apron</td>\n",
       "      <td>1</td>\n",
       "    </tr>\n",
       "    <tr>\n",
       "      <th>989</th>\n",
       "      <td>the change</td>\n",
       "      <td>1</td>\n",
       "    </tr>\n",
       "  </tbody>\n",
       "</table>\n",
       "<p>990 rows × 2 columns</p>\n",
       "</div>"
      ],
      "text/plain": [
       "                                      restaurant  url\n",
       "0    1927 Lobby Lounge at Rosewood Hotel Georgia    1\n",
       "1                            1931 Gallery Bistro    1\n",
       "2                               33 Acres Brewing    1\n",
       "3                    4 Stones Vegetarian Cuisine    1\n",
       "4                            75 West Coast Grill    1\n",
       "..                                           ...  ...\n",
       "985         iDen & Quan Ju De Beijing Duck House    1\n",
       "986                             sushi California    1\n",
       "987                                  tetsu Sushi    1\n",
       "988                                    the apron    1\n",
       "989                                   the change    1\n",
       "\n",
       "[990 rows x 2 columns]"
      ]
     },
     "execution_count": 35,
     "metadata": {},
     "output_type": "execute_result"
    }
   ],
   "source": [
    "# sanity check\n",
    "url_counts2 = df2.groupby('restaurant')['url'].nunique().reset_index()\n",
    "url_counts2"
   ]
  },
  {
   "cell_type": "code",
   "execution_count": 38,
   "id": "5e1ab8ed",
   "metadata": {},
   "outputs": [
    {
     "data": {
      "text/html": [
       "<div>\n",
       "<style scoped>\n",
       "    .dataframe tbody tr th:only-of-type {\n",
       "        vertical-align: middle;\n",
       "    }\n",
       "\n",
       "    .dataframe tbody tr th {\n",
       "        vertical-align: top;\n",
       "    }\n",
       "\n",
       "    .dataframe thead th {\n",
       "        text-align: right;\n",
       "    }\n",
       "</style>\n",
       "<table border=\"1\" class=\"dataframe\">\n",
       "  <thead>\n",
       "    <tr style=\"text-align: right;\">\n",
       "      <th></th>\n",
       "      <th>restaurant</th>\n",
       "      <th>url</th>\n",
       "    </tr>\n",
       "  </thead>\n",
       "  <tbody>\n",
       "  </tbody>\n",
       "</table>\n",
       "</div>"
      ],
      "text/plain": [
       "Empty DataFrame\n",
       "Columns: [restaurant, url]\n",
       "Index: []"
      ]
     },
     "execution_count": 38,
     "metadata": {},
     "output_type": "execute_result"
    }
   ],
   "source": [
    "# sanity check\n",
    "duplicate_rest2 = url_counts2[url_counts2['url'] > 1]\n",
    "duplicate_rest2 "
   ]
  },
  {
   "cell_type": "markdown",
   "id": "03387735",
   "metadata": {},
   "source": [
    "Now we have one link for each restaurant."
   ]
  },
  {
   "cell_type": "code",
   "execution_count": 39,
   "id": "2851d0ef",
   "metadata": {},
   "outputs": [],
   "source": [
    "#save file\n",
    "df2.to_csv('df_for_app_3', index=False)"
   ]
  },
  {
   "cell_type": "markdown",
   "id": "cc9f6d39",
   "metadata": {},
   "source": [
    "### Recommender System"
   ]
  },
  {
   "cell_type": "markdown",
   "id": "d057a875",
   "metadata": {},
   "source": [
    "Firstly, we use the TfidfVectorizer to transform the 'review' column into a TF-IDF matrix"
   ]
  },
  {
   "cell_type": "code",
   "execution_count": 40,
   "id": "aa02fbf1",
   "metadata": {},
   "outputs": [],
   "source": [
    "from sklearn.feature_extraction.text import TfidfVectorizer\n",
    "\n",
    "vectorizer = TfidfVectorizer(stop_words = \"english\", min_df=2)\n",
    "df_rest['review'] = df_rest['review'].fillna(\"\")\n",
    "\n",
    "TF_IDF_matrix = vectorizer.fit_transform(df_rest['review'])"
   ]
  },
  {
   "cell_type": "code",
   "execution_count": 41,
   "id": "9c618d62",
   "metadata": {},
   "outputs": [
    {
     "data": {
      "text/plain": [
       "(990, 8303)"
      ]
     },
     "execution_count": 41,
     "metadata": {},
     "output_type": "execute_result"
    }
   ],
   "source": [
    "TF_IDF_matrix.shape"
   ]
  },
  {
   "cell_type": "markdown",
   "id": "25ea4790",
   "metadata": {},
   "source": [
    "Now that we have our data in a numeric format how can we measure the similarity between two documents. \n",
    "\n",
    "We see these are just numeric arrays, that is vectors. There are several common ways to compare two vectors  𝑎  and  𝑏 , probably the most common in recommender systems is the cosine similarity:\n",
    "\n",
    "The closer two vectors (or documents) are, the higher this measure. We can calculate the similarity using cosine similiarity using sklearn's cosine similarity function:"
   ]
  },
  {
   "cell_type": "code",
   "execution_count": 42,
   "id": "d9119363",
   "metadata": {},
   "outputs": [],
   "source": [
    "# determine similarities\n",
    "from sklearn.metrics.pairwise import cosine_similarity \n",
    "similarities = cosine_similarity(TF_IDF_matrix, dense_output=False)"
   ]
  },
  {
   "cell_type": "code",
   "execution_count": 43,
   "id": "40aa97c1",
   "metadata": {},
   "outputs": [
    {
     "data": {
      "text/plain": [
       "(990, 990)"
      ]
     },
     "execution_count": 43,
     "metadata": {},
     "output_type": "execute_result"
    }
   ],
   "source": [
    "# Check the shape\n",
    "similarities.shape"
   ]
  },
  {
   "cell_type": "markdown",
   "id": "8b0ea590",
   "metadata": {},
   "source": [
    "Now that we can directly compare two restaurants and we can make recommendations of the form: if you like restaurant  𝑎  then you will also like restaurant  𝑏 ,  𝑐 ,  𝑑 , 𝑒𝑡𝑐 .\n",
    "We can do this just picking a candidate restaurant and taking its column in the similarity matrix, and then finding those rows where the similarities are highest:"
   ]
  },
  {
   "cell_type": "code",
   "execution_count": null,
   "id": "057086d2",
   "metadata": {},
   "outputs": [],
   "source": [
    "def content_recommender(restaurant, similarities, review_threshold) :\n",
    "    \n",
    "    # Get the restaurant by the title\n",
    "    restaurant_index = df_rest[df_rest['restaurant'] == restaurant].index\n",
    "    \n",
    "    # Create a dataframe with the restautant names\n",
    "    sim_df = pd.DataFrame(\n",
    "        {'restaurant': df_rest['restaurant'], \n",
    "         'similarity': np.array(similarities[restaurant_index, :].todense()).squeeze(),\n",
    "         'review_count': df_rest['review_count'],\n",
    "          \n",
    "     })\n",
    "    \n",
    "    # Filter restaurants with more than the specified review threshold\n",
    "    sim_df = sim_df[sim_df['review_count'] > review_threshold]\n",
    "    \n",
    "    \n",
    "    # Get the top 10 restaurants with review threshold > 10 review\n",
    "    top_restaurants = sim_df.sort_values(by='similarity', ascending=False).head(10)\n",
    "    \n",
    "    return top_restaurants"
   ]
  },
  {
   "cell_type": "code",
   "execution_count": 45,
   "id": "5ce2d1db",
   "metadata": {},
   "outputs": [
    {
     "data": {
      "text/html": [
       "<div>\n",
       "<style scoped>\n",
       "    .dataframe tbody tr th:only-of-type {\n",
       "        vertical-align: middle;\n",
       "    }\n",
       "\n",
       "    .dataframe tbody tr th {\n",
       "        vertical-align: top;\n",
       "    }\n",
       "\n",
       "    .dataframe thead th {\n",
       "        text-align: right;\n",
       "    }\n",
       "</style>\n",
       "<table border=\"1\" class=\"dataframe\">\n",
       "  <thead>\n",
       "    <tr style=\"text-align: right;\">\n",
       "      <th></th>\n",
       "      <th>restaurant</th>\n",
       "      <th>similarity</th>\n",
       "      <th>review_count</th>\n",
       "    </tr>\n",
       "  </thead>\n",
       "  <tbody>\n",
       "    <tr>\n",
       "      <th>570</th>\n",
       "      <td>Nook</td>\n",
       "      <td>1.000000</td>\n",
       "      <td>60</td>\n",
       "    </tr>\n",
       "    <tr>\n",
       "      <th>742</th>\n",
       "      <td>Sopra Sotto</td>\n",
       "      <td>0.398110</td>\n",
       "      <td>60</td>\n",
       "    </tr>\n",
       "    <tr>\n",
       "      <th>848</th>\n",
       "      <td>The Firewood Cafe</td>\n",
       "      <td>0.333294</td>\n",
       "      <td>15</td>\n",
       "    </tr>\n",
       "    <tr>\n",
       "      <th>564</th>\n",
       "      <td>Nicli Antica Pizzeria</td>\n",
       "      <td>0.330177</td>\n",
       "      <td>15</td>\n",
       "    </tr>\n",
       "    <tr>\n",
       "      <th>272</th>\n",
       "      <td>Famoso Neapolitan Pizzeria</td>\n",
       "      <td>0.323567</td>\n",
       "      <td>17</td>\n",
       "    </tr>\n",
       "    <tr>\n",
       "      <th>19</th>\n",
       "      <td>Alberello Pizzeria</td>\n",
       "      <td>0.320284</td>\n",
       "      <td>15</td>\n",
       "    </tr>\n",
       "    <tr>\n",
       "      <th>637</th>\n",
       "      <td>Pizza Carano</td>\n",
       "      <td>0.315551</td>\n",
       "      <td>15</td>\n",
       "    </tr>\n",
       "    <tr>\n",
       "      <th>603</th>\n",
       "      <td>Pacifico Pizzeria &amp; Ristorante</td>\n",
       "      <td>0.311179</td>\n",
       "      <td>15</td>\n",
       "    </tr>\n",
       "    <tr>\n",
       "      <th>687</th>\n",
       "      <td>Roundtable Pizza</td>\n",
       "      <td>0.305513</td>\n",
       "      <td>15</td>\n",
       "    </tr>\n",
       "    <tr>\n",
       "      <th>373</th>\n",
       "      <td>Ignite Pizzeria Mount Pleasant</td>\n",
       "      <td>0.296044</td>\n",
       "      <td>15</td>\n",
       "    </tr>\n",
       "  </tbody>\n",
       "</table>\n",
       "</div>"
      ],
      "text/plain": [
       "                         restaurant  similarity  review_count\n",
       "570                            Nook    1.000000            60\n",
       "742                     Sopra Sotto    0.398110            60\n",
       "848               The Firewood Cafe    0.333294            15\n",
       "564           Nicli Antica Pizzeria    0.330177            15\n",
       "272      Famoso Neapolitan Pizzeria    0.323567            17\n",
       "19               Alberello Pizzeria    0.320284            15\n",
       "637                    Pizza Carano    0.315551            15\n",
       "603  Pacifico Pizzeria & Ristorante    0.311179            15\n",
       "687                Roundtable Pizza    0.305513            15\n",
       "373  Ignite Pizzeria Mount Pleasant    0.296044            15"
      ]
     },
     "execution_count": 45,
     "metadata": {},
     "output_type": "execute_result"
    }
   ],
   "source": [
    "# Test the recommender\n",
    "similar_restaurants = content_recommender(\"Nook\", similarities, review_threshold=10 )\n",
    "similar_restaurants.head(10)"
   ]
  },
  {
   "cell_type": "markdown",
   "id": "0db1e30d",
   "metadata": {},
   "source": [
    "The output shows 10 restaurants that are similar to \"Nook.\" The closer the similarity score is to 1, the more similar these restaurants are to \"Nook.\" I've chosen a threshold of 10 because many restaurants have fewer than 10 reviews. Increasing the threshold would have a significant impact on the quality of the recommendations."
   ]
  }
 ],
 "metadata": {
  "kernelspec": {
   "display_name": "Python 3 (ipykernel)",
   "language": "python",
   "name": "python3"
  },
  "language_info": {
   "codemirror_mode": {
    "name": "ipython",
    "version": 3
   },
   "file_extension": ".py",
   "mimetype": "text/x-python",
   "name": "python",
   "nbconvert_exporter": "python",
   "pygments_lexer": "ipython3",
   "version": "3.8.16"
  }
 },
 "nbformat": 4,
 "nbformat_minor": 5
}
